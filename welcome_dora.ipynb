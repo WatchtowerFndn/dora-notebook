{
  "nbformat": 4,
  "nbformat_minor": 0,
  "metadata": {
    "colab": {
      "provenance": [],
      "toc_visible": true,
      "authorship_tag": "ABX9TyNUuuJnNXYBGpOGUvYd/dH2",
      "include_colab_link": true
    },
    "kernelspec": {
      "name": "python3",
      "display_name": "Python 3"
    },
    "language_info": {
      "name": "python"
    }
  },
  "cells": [
    {
      "cell_type": "markdown",
      "metadata": {
        "id": "view-in-github",
        "colab_type": "text"
      },
      "source": [
        "<a href=\"https://colab.research.google.com/github/WatchtowerFndn/dora-notebook/blob/main/welcome_dora.ipynb\" target=\"_parent\"><img src=\"https://colab.research.google.com/assets/colab-badge.svg\" alt=\"Open In Colab\"/></a>"
      ]
    },
    {
      "cell_type": "markdown",
      "source": [
        "# Welcome to Dora Tournaments"
      ],
      "metadata": {
        "id": "BZWoVipL5uD1"
      }
    },
    {
      "cell_type": "markdown",
      "source": [
        "Welcome to the Dora Data Science Tournament, one of many tournaments under Watchtower.\n",
        "\n",
        "This notebook is designed to help you build your first model and start competing the Dora's tournaments.\n",
        "\n",
        "In this notebook we will\n",
        "\n",
        "1. A Brief intro to Satellite Collision Risk\n",
        "2. Download and explore the Dora Tournament dataset\n",
        "3. Train and evaluate your first model\n",
        "4. Deploy your model to start making live submissions"
      ],
      "metadata": {
        "id": "X25QXQH05y4X"
      }
    },
    {
      "cell_type": "markdown",
      "source": [
        "## 1. Introduction\n",
        "\n",
        "Our orbital corridors are getting more crowded with increased space-based services while existing public services like the *Global Navigation Satellite Systems* [(GNSS)](https://en.wikipedia.org/wiki/Satellite_navigation) such as Russia's *Global'naya Navigatsionnaya Sputnikovaya Sistema* [(GLONASS)](https://en.wikipedia.org/wiki/GLONASS), China's [BeiDou](https://en.wikipedia.org/wiki/BeiDou), the European Union's [Galileo](https://bit.ly/3R3zFRf) and the United States's *Global Positioning System* [(GPS)](https://en.wikipedia.org/wiki/Global_Positioning_System) which we rely on from food delivery to online dating. There are plenty of resources that cover the academic, policy, news and legal aspects of the space junk problem and the crowding of our orbits - both different topics where junk refers to past space objects left by the results of the Cold War between the former Soviet Union and the United States while crowding referring to today with the rise of mega-constellations such as [Starlink](https://en.wikipedia.org/wiki/Starlink), [Kuiper](https://en.wikipedia.org/wiki/Kuiper_Systems), [OneWeb](https://en.wikipedia.org/wiki/Eutelsat_OneWeb) [and](https://www.esa.int/Enabling_Support/Preparing_for_the_Future/Discovery_and_Preparation/Managing_mega-constellations) [more](https://en.wikipedia.org/wiki/Satellite_internet_constellation).\n",
        "\n",
        "Due to the proliferation of satellites and existing debris in orbit, the chances of close approaches between space objects increases. Satellite operators (caretakers) often have to make quick decisions and maneuver to avoid collisions, using messages that tell them when objects might come too close. These messages are called Conjunction Data Messages (CDMs) and are sent in large batches weekly, but most of them don't require action. This creates a challenge for satellite operators. An process that can predict collision risk with desired accuracy while accounting for modelling bias a couple of days ahead to allow satellite operators to plan for collision avoidance maneuvers can be helpful.\n",
        "\n",
        "The process of analysing whether a possible collision event is likely is called, Conjunction Analyses/Assessment. While this notebook is meant to give a brief overview and to get you started in the process of calculating collision risk quickly, if you'd like to dive deeper, a good starting point is *NASA's Spacecraft Conjunction Assessment and Collision Avoidance* [Best Practices Handbook](https://nodis3.gsfc.nasa.gov/OCE_docs/OCE_50.pdf) which can further help you burrow into the rabbit hole of spacecraft conjunction assessment and collision risk.\n",
        "\n",
        "\n",
        "### Dependencies\n",
        "Let's starting by installing all relevant dependencies required for this tournament."
      ],
      "metadata": {
        "id": "so2gngf2pLMd"
      }
    },
    {
      "cell_type": "code",
      "source": [
        "# Install Dependencies\n",
        "#TODO\n",
        "\n",
        "# Inline plots\n",
        "%matplotlib inline"
      ],
      "metadata": {
        "id": "LICT07wd6HzW"
      },
      "execution_count": null,
      "outputs": []
    },
    {
      "cell_type": "markdown",
      "source": [
        "## 2. Dataset  \n",
        "\n",
        "At a high level, the Dora Tournament dataset is a tabular dataset that describes the positions of two space objects over time. The dataset includes time-series of Conjunction Data Messages or CDMs issued for close approaches between a satellite and a space object.\n",
        "\n",
        "A Conjunction Data Message is a commonly used data format among spacecraft operators, data providers and space debris analysts. If you'd like to dive deeper, you can do so [here](https://public.ccsds.org/Pubs/508x0b1e2s.pdf). For your ease, the data format structure will be described below so you can focus on modelling as soon as possible.\n",
        "\n",
        "Each row represents a CDM at a specific point in time, where.... The `features` describe the attributes of the two space objects, their relationship and the `target` is a measure of the collision risk or probability of collision ($P_C$).\n",
        "\n",
        "The unique thing about the dataset is that it is `obfuscated`, which means that the underlying .... feature names, and target definitions are anonymized. This makes it so that we can give this data out for free and so that it can be modeled without any domain knowledge (or bias!)."
      ],
      "metadata": {
        "id": "sKxqbt1X6wwM"
      }
    },
    {
      "cell_type": "markdown",
      "source": [
        "### Downloading the Dataset"
      ],
      "metadata": {
        "id": "VSEB7isjtpGU"
      }
    },
    {
      "cell_type": "markdown",
      "source": [
        "### Epoches"
      ],
      "metadata": {
        "id": "4i9IwYmMuXHy"
      }
    },
    {
      "cell_type": "markdown",
      "source": [
        "### Features"
      ],
      "metadata": {
        "id": "Q1eQEMvGucm4"
      }
    },
    {
      "cell_type": "markdown",
      "source": [
        "### Target"
      ],
      "metadata": {
        "id": "TfgVca6rufU-"
      }
    },
    {
      "cell_type": "markdown",
      "source": [
        "## 3. Modeling\n"
      ],
      "metadata": {
        "id": "01Mw43vXtAGo"
      }
    },
    {
      "cell_type": "markdown",
      "source": [
        "### Validation Predictions"
      ],
      "metadata": {
        "id": "9MCnh5aWteDb"
      }
    },
    {
      "cell_type": "markdown",
      "source": [
        "### Performance Evaluation"
      ],
      "metadata": {
        "id": "mzyKvGZNtgaE"
      }
    },
    {
      "cell_type": "markdown",
      "source": [
        "### Performance Measures"
      ],
      "metadata": {
        "id": "OHYyEINctkqm"
      }
    },
    {
      "cell_type": "markdown",
      "source": [
        "## 4. Submission"
      ],
      "metadata": {
        "id": "z497FBoAtRVJ"
      }
    },
    {
      "cell_type": "markdown",
      "source": [
        "### Model Upload"
      ],
      "metadata": {
        "id": "xcACNCdXtVXM"
      }
    },
    {
      "cell_type": "code",
      "source": [],
      "metadata": {
        "id": "H-9Z9830tC0L"
      },
      "execution_count": null,
      "outputs": []
    }
  ]
}